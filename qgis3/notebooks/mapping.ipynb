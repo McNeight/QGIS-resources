{
 "cells": [
  {
   "cell_type": "code",
   "execution_count": null,
   "metadata": {},
   "outputs": [],
   "source": [
    "from PyQt5.QtWidgets import QApplication\n",
    "from qgis.core import QgsApplication, QgsVectorLayer, QgsProject\n",
    "from qgis.gui import QgsMapCanvas"
   ]
  },
  {
   "cell_type": "code",
   "execution_count": null,
   "metadata": {},
   "outputs": [],
   "source": [
    "app = QApplication([])\n",
    "qgs = QgsApplication([], False)"
   ]
  },
  {
   "cell_type": "code",
   "execution_count": null,
   "metadata": {},
   "outputs": [],
   "source": [
    "canvas = QgsMapCanvas()\n",
    "project = QgsProject.instance()"
   ]
  },
  {
   "cell_type": "code",
   "execution_count": null,
   "metadata": {},
   "outputs": [],
   "source": [
    "vlayer = QgsVectorLayer(\"./data/test.geojson\", \"My layer\")\n",
    "if not vlayer.isValid():\n",
    "    print(\"Layer failed to load!\")"
   ]
  },
  {
   "cell_type": "code",
   "execution_count": null,
   "metadata": {},
   "outputs": [],
   "source": [
    "project.addMapLayer(vlayer)\n",
    "project.mapLayers()"
   ]
  },
  {
   "cell_type": "code",
   "execution_count": null,
   "metadata": {},
   "outputs": [],
   "source": [
    "canvas.setExtent(vlayer.extent())\n",
    "canvas.setLayers([vlayer])"
   ]
  },
  {
   "cell_type": "code",
   "execution_count": null,
   "metadata": {},
   "outputs": [],
   "source": [
    "canvas.show()\n",
    "app.exec_()"
   ]
  },
  {
   "cell_type": "code",
   "execution_count": null,
   "metadata": {},
   "outputs": [],
   "source": [
    "from IPython.display import Image\n",
    "\n",
    "def saveImage(path, show=True): \n",
    "    canvas.saveAsImage(path)\n",
    "    if show: return Image(path)\n",
    "\n",
    "saveImage(\"my-map.png\")"
   ]
  },
  {
   "cell_type": "code",
   "execution_count": null,
   "metadata": {},
   "outputs": [],
   "source": []
  }
 ],
 "metadata": {
  "kernelspec": {
   "display_name": "qgis",
   "language": "python",
   "name": "python3"
  },
  "language_info": {
   "codemirror_mode": {
    "name": "ipython",
    "version": 3
   },
   "file_extension": ".py",
   "mimetype": "text/x-python",
   "name": "python",
   "nbconvert_exporter": "python",
   "pygments_lexer": "ipython3",
   "version": "3.9.15"
  },
  "orig_nbformat": 4,
  "vscode": {
   "interpreter": {
    "hash": "7f7e04976b05f00de8e9b2faf1971fe6c0ccb79b820f40e57c1c24b6d3a6758d"
   }
  }
 },
 "nbformat": 4,
 "nbformat_minor": 2
}
