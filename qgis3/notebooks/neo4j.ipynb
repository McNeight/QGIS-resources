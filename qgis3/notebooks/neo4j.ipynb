{
 "cells": [
  {
   "cell_type": "code",
   "execution_count": null,
   "metadata": {},
   "outputs": [],
   "source": [
    "from neo4j import GraphDatabase\n",
    "\n",
    "URI = \"neo4j://localhost\"\n",
    "AUTH = (\"neo4j\", \"password\")\n",
    "\n",
    "with GraphDatabase.driver(URI, auth=AUTH) as driver:\n",
    "    driver.verify_connectivity()"
   ]
  },
  {
   "cell_type": "code",
   "execution_count": null,
   "metadata": {},
   "outputs": [],
   "source": [
    "QUERY = \"MATCH (p:Stop) RETURN p.name AS name, p.location AS geom\"\n",
    "\n",
    "records, summary, keys = driver.execute_query(\n",
    "    QUERY, database_=\"neo4j\",\n",
    ")\n",
    "\n",
    "for rec in records:\n",
    "    print(rec)"
   ]
  },
  {
   "cell_type": "code",
   "execution_count": null,
   "metadata": {},
   "outputs": [],
   "source": [
    "import geopandas as gpd\n",
    "from datetime import datetime\n",
    "\n",
    "with driver.session(database=\"neo4j\") as session:\n",
    "    tx = session.begin_transaction()\n",
    "    results = tx.run(QUERY)\n",
    "    df = results.to_df(expand=True)\n",
    "    df = df[df[\"geom[].0\"]>0]\n",
    "    gdf = gpd.GeoDataFrame(\n",
    "        df[['name']], crs=4326,\n",
    "        geometry=gpd.points_from_xy(df['geom[].0'], df['geom[].1']))\n",
    "    print(gdf)\n",
    "\n",
    "tx.close() "
   ]
  },
  {
   "cell_type": "code",
   "execution_count": null,
   "metadata": {},
   "outputs": [],
   "source": [
    "gdf.explore()"
   ]
  },
  {
   "cell_type": "code",
   "execution_count": null,
   "metadata": {},
   "outputs": [],
   "source": [
    "QUERY = \"\"\"MATCH (\n",
    "    t:Trip {id: \"17\"})\n",
    "    <-[:BELONGS_TO]-\n",
    "    (st:StopTime)\n",
    "    -[:STOPS_AT]->\n",
    "    (s:Stop)\n",
    "RETURN st ,s\n",
    "ORDER BY st.stopSequence\n",
    "\"\"\"\n",
    "\n",
    "records, summary, keys = driver.execute_query(\n",
    "    QUERY, database_=\"neo4j\",\n",
    ")\n",
    "\n",
    "for rec in records:\n",
    "    print(rec)"
   ]
  },
  {
   "cell_type": "code",
   "execution_count": null,
   "metadata": {},
   "outputs": [],
   "source": [
    "from shapely.geometry import Point\n",
    "\n",
    "QUERY = \"\"\"MATCH (\n",
    "    t:Trip {id: \"17\"})\n",
    "    <-[:BELONGS_TO]-\n",
    "    (st:StopTime)\n",
    "    -[:STOPS_AT]->\n",
    "    (s:Stop)\n",
    "RETURN st ,s\n",
    "ORDER BY st.stopSequence\n",
    "\"\"\"\n",
    "\n",
    "with driver.session(database=\"neo4j\") as session:\n",
    "    tx = session.begin_transaction()\n",
    "    results = tx.run(QUERY)\n",
    "    df = results.to_df(expand=True)\n",
    "    gdf = gpd.GeoDataFrame(\n",
    "        df[['s().prop.name']], crs=4326,\n",
    "        geometry=df[\"s().prop.location\"].apply(Point)\n",
    "    )\n",
    "\n",
    "tx.close() \n",
    "m = gdf.explore()\n",
    "m"
   ]
  },
  {
   "cell_type": "code",
   "execution_count": null,
   "metadata": {},
   "outputs": [],
   "source": [
    "QUERY = \"\"\"\n",
    "MATCH (t:Trip {id: \"17\"})\n",
    "   <-[:BELONGS_TO]-\n",
    "   (st1:StopTime)\n",
    "   -[:NEXT_STOP]->\n",
    "   (st2:StopTime)\n",
    "MATCH (st1)-[:STOPS_AT]->(s1:Stop)\n",
    "MATCH (st2)-[:STOPS_AT]->(s2:Stop)\n",
    "RETURN st1, st2, s1, s2\n",
    "\"\"\"\n",
    "\n",
    "from shapely.geometry import Point, LineString\n",
    "\n",
    "def make_line(row):\n",
    "    s1 = Point(row[\"s1().prop.location\"])\n",
    "    s2 = Point(row[\"s2().prop.location\"])\n",
    "    return LineString([s1,s2])\n",
    "\n",
    "with driver.session(database=\"neo4j\") as session:\n",
    "    tx = session.begin_transaction()\n",
    "    results = tx.run(QUERY)\n",
    "    df = results.to_df(expand=True)\n",
    "    gdf = gpd.GeoDataFrame(\n",
    "        df[['s1().prop.name']], crs=4326,\n",
    "        geometry=df.apply(make_line, axis=1)\n",
    "    )\n",
    "\n",
    "tx.close() \n",
    "gdf.explore(m=m)"
   ]
  },
  {
   "cell_type": "code",
   "execution_count": null,
   "metadata": {},
   "outputs": [],
   "source": []
  }
 ],
 "metadata": {
  "kernelspec": {
   "display_name": "neo4j",
   "language": "python",
   "name": "python3"
  },
  "language_info": {
   "codemirror_mode": {
    "name": "ipython",
    "version": 3
   },
   "file_extension": ".py",
   "mimetype": "text/x-python",
   "name": "python",
   "nbconvert_exporter": "python",
   "pygments_lexer": "ipython3",
   "version": "3.9.18"
  }
 },
 "nbformat": 4,
 "nbformat_minor": 2
}
