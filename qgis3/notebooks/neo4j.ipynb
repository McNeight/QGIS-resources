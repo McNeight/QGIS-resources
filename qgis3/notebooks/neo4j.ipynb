{
 "cells": [
  {
   "cell_type": "code",
   "execution_count": null,
   "metadata": {},
   "outputs": [],
   "source": [
    "from neo4j import GraphDatabase\n",
    "\n",
    "URI = \"neo4j://localhost\"\n",
    "AUTH = (\"neo4j\", \"password\")\n",
    "\n",
    "with GraphDatabase.driver(URI, auth=AUTH) as driver:\n",
    "    driver.verify_connectivity()"
   ]
  },
  {
   "cell_type": "code",
   "execution_count": null,
   "metadata": {},
   "outputs": [],
   "source": [
    "QUERY = \"MATCH (p:Stop) RETURN p.name AS name, p.geom AS geom\"\n",
    "\n",
    "records, summary, keys = driver.execute_query(\n",
    "    QUERY, database_=\"neo4j\",\n",
    ")\n",
    "\n",
    "for rec in records:\n",
    "    print(rec)"
   ]
  },
  {
   "cell_type": "code",
   "execution_count": null,
   "metadata": {},
   "outputs": [],
   "source": [
    "import geopandas as gpd\n",
    "\n",
    "with driver.session(database=\"neo4j\") as session:\n",
    "    tx = session.begin_transaction()\n",
    "    results = tx.run(QUERY)\n",
    "    df = results.to_df(expand=True)\n",
    "    df = df[df[\"geom[].0\"]>0]\n",
    "    gdf = gpd.GeoDataFrame(\n",
    "        df['name'], crs=4326,\n",
    "        geometry=gpd.points_from_xy(df['geom[].0'], df['geom[].1']))\n",
    "    print(gdf)\n",
    "\n",
    "tx.close() "
   ]
  },
  {
   "cell_type": "code",
   "execution_count": null,
   "metadata": {},
   "outputs": [],
   "source": [
    "gdf.explore()"
   ]
  },
  {
   "cell_type": "code",
   "execution_count": null,
   "metadata": {},
   "outputs": [],
   "source": []
  }
 ],
 "metadata": {
  "kernelspec": {
   "display_name": "neo4j",
   "language": "python",
   "name": "python3"
  },
  "language_info": {
   "codemirror_mode": {
    "name": "ipython",
    "version": 3
   },
   "file_extension": ".py",
   "mimetype": "text/x-python",
   "name": "python",
   "nbconvert_exporter": "python",
   "pygments_lexer": "ipython3",
   "version": "3.9.18"
  }
 },
 "nbformat": 4,
 "nbformat_minor": 2
}
